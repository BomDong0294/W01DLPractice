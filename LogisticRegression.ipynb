{
  "nbformat": 4,
  "nbformat_minor": 0,
  "metadata": {
    "colab": {
      "name": "Untitled3.ipynb",
      "provenance": [],
      "authorship_tag": "ABX9TyM73lOANRHe8UG4solVf8sj",
      "include_colab_link": true
    },
    "kernelspec": {
      "name": "python3",
      "display_name": "Python 3"
    },
    "language_info": {
      "name": "python"
    }
  },
  "cells": [
    {
      "cell_type": "markdown",
      "metadata": {
        "id": "view-in-github",
        "colab_type": "text"
      },
      "source": [
        "<a href=\"https://colab.research.google.com/github/BomDong0294/W01DLPractice/blob/main/LogisticRegression.ipynb\" target=\"_parent\"><img src=\"https://colab.research.google.com/assets/colab-badge.svg\" alt=\"Open In Colab\"/></a>"
      ]
    },
    {
      "cell_type": "code",
      "execution_count": null,
      "metadata": {
        "colab": {
          "base_uri": "https://localhost:8080/",
          "height": 622
        },
        "id": "yce-xRPpzxOp",
        "outputId": "0c0905e6-f923-487f-ed7e-3ca5cb810177"
      },
      "outputs": [
        {
          "output_type": "stream",
          "name": "stdout",
          "text": [
            "Count = 0, f'(x) = -0.05000, f(0) = -0.02500\n",
            "Count = 0, f'(x) = -0.13880, f(0) = -0.04720\n",
            "Count = 0, f'(x) = -0.22675, f(0) = -0.06186\n",
            "Count = 0, f'(x) = 0.12010, f(0) = -0.01850\n",
            "Count = 0, f'(x) = 0.23740, f(0) = -0.00677\n",
            "Count = 0, f'(x) = 0.27046, f(0) = -0.00402\n",
            "Count = 0, f'(x) = 0.28604, f(0) = -0.00290\n",
            "Count = 1000, f'(x) = 1.49782, f(0) = -9.94012\n",
            "Count = 1000, f'(x) = 1.49404, f(0) = -9.94107\n",
            "Count = 1000, f'(x) = 1.41198, f(0) = -9.95475\n",
            "Count = 1000, f'(x) = 1.49491, f(0) = -9.94438\n",
            "Count = 1000, f'(x) = 1.49824, f(0) = -9.94405\n",
            "Count = 1000, f'(x) = 1.49844, f(0) = -9.94403\n",
            "Count = 1000, f'(x) = 1.49845, f(0) = -9.94403\n",
            "Count = 2000, f'(x) = 1.90647, f(0) = -12.94889\n",
            "Count = 2000, f'(x) = 1.90550, f(0) = -12.94914\n",
            "Count = 2000, f'(x) = 1.85149, f(0) = -12.95814\n",
            "Count = 2000, f'(x) = 1.90566, f(0) = -12.95137\n",
            "Count = 2000, f'(x) = 1.90677, f(0) = -12.95126\n",
            "Count = 2000, f'(x) = 1.90680, f(0) = -12.95125\n",
            "Count = 2000, f'(x) = 1.90680, f(0) = -12.95125\n"
          ]
        },
        {
          "output_type": "display_data",
          "data": {
            "text/plain": [
              "<Figure size 432x288 with 1 Axes>"
            ],
            "image/png": "[encoded data removed]"
          },
          "metadata": {
            "needs_background": "light"
          }
        }
      ],
      "source": [
        "import numpy as np\n",
        "import pandas as pd\n",
        "import matplotlib.pyplot as plt\n",
        "\n",
        "data = [[2,0], [4,0], [6,0], [8,1], [10,1], [12,1], [14,1]]\n",
        "\n",
        "x_data = [i[0] for i in data]\n",
        "y_data = [i[1] for i in data]\n",
        "\n",
        "plt.scatter(x_data, y_data)\n",
        "plt.xlim(0,15)\n",
        "plt.ylim(-.1, 1.1)\n",
        "\n",
        "a = 0\n",
        "b = 0\n",
        "lr = 0.05\n",
        "\n",
        "def sigmoid(x):\n",
        "  return 1/(1 + np.e ** (-x))\n",
        "\n",
        "for i in range(2001):\n",
        "  for x_data, y_data in data:\n",
        "    a_diff = x_data*(sigmoid(a * x_data + b) - y_data)\n",
        "    b_diff = sigmoid(a * x_data + b) - y_data\n",
        "    a = a - lr * a_diff\n",
        "    b = b - lr * b_diff\n",
        "    if i % 1000 == 0:\n",
        "      print(\"Count = %.f, f'(x) = %.05f, f(0) = %.05f\"%(i, a, b))\n",
        "  \n",
        "plt.scatter(x_data, y_data)\n",
        "plt.xlim(0, 15)\n",
        "plt.ylim(-.1, 1.1)\n",
        "x_range = (np.arange(0, 15, 0.1))\n",
        "plt.plot(np.arange(0, 15, 0.1), np.array([sigmoid(a * x + b) for x in x_range]))\n",
        "plt.show()"
      ]
    }
  ]
}