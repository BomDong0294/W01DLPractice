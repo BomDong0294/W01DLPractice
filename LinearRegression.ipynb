{
  "nbformat": 4,
  "nbformat_minor": 0,
  "metadata": {
    "colab": {
      "name": "Untitled0.ipynb",
      "provenance": [],
      "collapsed_sections": [],
      "authorship_tag": "ABX9TyPWGPNZSlcBnYfOKLl1o640",
      "include_colab_link": true
    },
    "kernelspec": {
      "name": "python3",
      "display_name": "Python 3"
    },
    "language_info": {
      "name": "python"
    }
  },
  "cells": [
    {
      "cell_type": "markdown",
      "metadata": {
        "id": "view-in-github",
        "colab_type": "text"
      },
      "source": [
        "<a href=\"https://colab.research.google.com/github/BomDong0294/DLPractice/blob/main/LinearRegression.ipynb\" target=\"_parent\"><img src=\"https://colab.research.google.com/assets/colab-badge.svg\" alt=\"Open In Colab\"/></a>"
      ]
    },
    {
      "cell_type": "code",
      "execution_count": 1,
      "metadata": {
        "id": "rOSyCfvlS2u9",
        "colab": {
          "base_uri": "https://localhost:8080/"
        },
        "outputId": "27ec58b5-4810-4ef1-9a24-7e099887457d"
      },
      "outputs": [
        {
          "output_type": "stream",
          "name": "stdout",
          "text": [
            "avg.x =  5.0\n",
            "avg.y =  90.5\n",
            "Upper element =  46.0\n",
            "Lower element =  20.0\n",
            "f'(x) =  2.3\n",
            "f(0) =  79.0\n"
          ]
        }
      ],
      "source": [
        "# Linear Regression example1\n",
        "# x => How much they studied\n",
        "# y => their grade\n",
        "\n",
        "# this example introduces \"Method of least squares\"\n",
        "\n",
        "import numpy as np\n",
        "\n",
        "x = [2,4,6,8]\n",
        "y = [81,93,91,97]\n",
        "\n",
        "mx = np.mean(x)\n",
        "my = np.mean(y)\n",
        "print(\"avg.x = \", mx)\n",
        "print(\"avg.y = \", my)\n",
        "\n",
        "div = sum([(mx-i)**2 for i in x])\n",
        "\n",
        "def top(x, mx, y, my):\n",
        "  res = 0\n",
        "  for i in range(len(x)):\n",
        "    res += (x[i] - mx) * (y[i] - my)\n",
        "  return res\n",
        "\n",
        "divd = top(x, mx, y, my)\n",
        "\n",
        "print(\"Upper element = \", divd)\n",
        "print(\"Lower element = \", div)\n",
        "\n",
        "a = divd / div\n",
        "b = my - (mx*a)\n",
        "\n",
        "print(\"f'(x) = \", a)\n",
        "print(\"f(0) = \", b)"
      ]
    },
    {
      "cell_type": "code",
      "source": [
        "# Linear Regression example2\n",
        "\n",
        "import numpy as np\n",
        "\n",
        "r_list = [2, 77]\n",
        "\n",
        "data = [[2,81], [4,93], [6,91], [8,97]]\n",
        "x = [i[0] for i in data]\n",
        "y = [i[1] for i in data]\n",
        "\n",
        "def predict(x):\n",
        "  return r_list[0]*x + r_list[1]\n",
        "\n",
        "def mse(y, yh):\n",
        "  return ((y-yh)**2).mean()\n",
        "\n",
        "def mse_val(y, res):\n",
        "  return mse(np.array(y), np.array(res))\n",
        "\n",
        "res_list = []\n",
        "\n",
        "for i in range(len(x)):\n",
        "  res_list.append(predict(x[i]))\n",
        "  print(\"Study time = %.f, res = %.f, Guessed res = %.f\"%(x[i], y[i], predict(x[i])))\n",
        "\n",
        "print(\"mse res = \" + str(mse_val(y, res_list)))"
      ],
      "metadata": {
        "id": "KPTCc7xabZxb",
        "outputId": "d2daebd0-f795-43fb-852b-9278062dfe32",
        "colab": {
          "base_uri": "https://localhost:8080/"
        }
      },
      "execution_count": 2,
      "outputs": [
        {
          "output_type": "stream",
          "name": "stdout",
          "text": [
            "Study time = 2, res = 81, Guessed res = 81\n",
            "Study time = 4, res = 93, Guessed res = 85\n",
            "Study time = 6, res = 91, Guessed res = 89\n",
            "Study time = 8, res = 97, Guessed res = 93\n",
            "mse res = 21.0\n"
          ]
        }
      ]
    }
  ]
}