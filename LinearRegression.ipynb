{
  "nbformat": 4,
  "nbformat_minor": 0,
  "metadata": {
    "colab": {
      "name": "Untitled0.ipynb",
      "provenance": [],
      "collapsed_sections": [],
      "authorship_tag": "ABX9TyPRwSMTH6swzCle6g85EIpW",
      "include_colab_link": true
    },
    "kernelspec": {
      "name": "python3",
      "display_name": "Python 3"
    },
    "language_info": {
      "name": "python"
    }
  },
  "cells": [
    {
      "cell_type": "markdown",
      "metadata": {
        "id": "view-in-github",
        "colab_type": "text"
      },
      "source": [
        "<a href=\"https://colab.research.google.com/github/BomDong0294/DLPractice/blob/main/LinearRegression.ipynb\" target=\"_parent\"><img src=\"https://colab.research.google.com/assets/colab-badge.svg\" alt=\"Open In Colab\"/></a>"
      ]
    },
    {
      "cell_type": "code",
      "execution_count": 1,
      "metadata": {
        "id": "rOSyCfvlS2u9",
        "outputId": "27ec58b5-4810-4ef1-9a24-7e099887457d",
        "colab": {
          "base_uri": "https://localhost:8080/"
        }
      },
      "outputs": [
        {
          "output_type": "stream",
          "name": "stdout",
          "text": [
            "avg.x =  5.0\n",
            "avg.y =  90.5\n",
            "Upper element =  46.0\n",
            "Lower element =  20.0\n",
            "f'(x) =  2.3\n",
            "f(0) =  79.0\n"
          ]
        }
      ],
      "source": [
        "# Linear Regression example1\n",
        "# x => How much they studied\n",
        "# y => their grade\n",
        "\n",
        "# this example introduces \"Method of least squares\"\n",
        "\n",
        "import numpy as np\n",
        "\n",
        "x = [2,4,6,8]\n",
        "y = [81,93,91,97]\n",
        "\n",
        "mx = np.mean(x)\n",
        "my = np.mean(y)\n",
        "print(\"avg.x = \", mx)\n",
        "print(\"avg.y = \", my)\n",
        "\n",
        "div = sum([(mx-i)**2 for i in x])\n",
        "\n",
        "def top(x, mx, y, my):\n",
        "  res = 0\n",
        "  for i in range(len(x)):\n",
        "    res += (x[i] - mx) * (y[i] - my)\n",
        "  return res\n",
        "\n",
        "divd = top(x, mx, y, my)\n",
        "\n",
        "print(\"Upper element = \", divd)\n",
        "print(\"Lower element = \", div)\n",
        "\n",
        "a = divd / div\n",
        "b = my - (mx*a)\n",
        "\n",
        "print(\"f'(x) = \", a)\n",
        "print(\"f(0) = \", b)"
      ]
    }
  ]
}